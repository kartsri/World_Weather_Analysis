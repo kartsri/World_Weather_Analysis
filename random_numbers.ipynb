{
 "cells": [
  {
   "cell_type": "code",
   "execution_count": 1,
   "id": "99780a44",
   "metadata": {},
   "outputs": [],
   "source": [
    "# Import the random module.\n",
    "import random"
   ]
  },
  {
   "cell_type": "code",
   "execution_count": 3,
   "id": "340e16a3",
   "metadata": {},
   "outputs": [
    {
     "data": {
      "text/plain": [
       "39"
      ]
     },
     "execution_count": 3,
     "metadata": {},
     "output_type": "execute_result"
    }
   ],
   "source": [
    "random.randint(-90, 90)"
   ]
  },
  {
   "cell_type": "code",
   "execution_count": 4,
   "id": "708c4dd4",
   "metadata": {},
   "outputs": [],
   "source": [
    "x = 1\n",
    "latitudes = []\n",
    "while x < 11:\n",
    "    random_lat = random.randint(-90, 89) + random.random()\n",
    "    latitudes.append(random_lat)\n",
    "    x += 1"
   ]
  },
  {
   "cell_type": "code",
   "execution_count": 5,
   "id": "f8236df2",
   "metadata": {},
   "outputs": [],
   "source": [
    "# Import the NumPy module.\n",
    "import numpy as np"
   ]
  },
  {
   "cell_type": "code",
   "execution_count": 6,
   "id": "c662e850",
   "metadata": {},
   "outputs": [],
   "source": [
    "# Import timeit.\n",
    "import timeit"
   ]
  },
  {
   "cell_type": "code",
   "execution_count": 7,
   "id": "19955699",
   "metadata": {},
   "outputs": [
    {
     "name": "stdout",
     "output_type": "stream",
     "text": [
      "25.1 µs ± 3.01 µs per loop (mean ± std. dev. of 7 runs, 10000 loops each)\n"
     ]
    }
   ],
   "source": [
    "%timeit np.random.uniform(-90.000, 90.000, size=1500)\n"
   ]
  },
  {
   "cell_type": "code",
   "execution_count": 8,
   "id": "8415f9cb",
   "metadata": {},
   "outputs": [
    {
     "name": "stdout",
     "output_type": "stream",
     "text": [
      "3.09 ms ± 244 µs per loop (mean ± std. dev. of 7 runs, 100 loops each)\n"
     ]
    }
   ],
   "source": [
    "def latitudes(size):\n",
    "    latitudes = []\n",
    "    x = 0\n",
    "    while x < (size):\n",
    "        random_lat = random.randint(-90, 90) + random.random()\n",
    "        latitudes.append(random_lat)\n",
    "        x += 1\n",
    "    return latitudes\n",
    "# Call the function with 1500.\n",
    "%timeit latitudes(1500)"
   ]
  },
  {
   "cell_type": "code",
   "execution_count": null,
   "id": "10bca646",
   "metadata": {},
   "outputs": [],
   "source": []
  }
 ],
 "metadata": {
  "kernelspec": {
   "display_name": "PythonData",
   "language": "python",
   "name": "pythondata"
  },
  "language_info": {
   "codemirror_mode": {
    "name": "ipython",
    "version": 3
   },
   "file_extension": ".py",
   "mimetype": "text/x-python",
   "name": "python",
   "nbconvert_exporter": "python",
   "pygments_lexer": "ipython3",
   "version": "3.7.10"
  }
 },
 "nbformat": 4,
 "nbformat_minor": 5
}
